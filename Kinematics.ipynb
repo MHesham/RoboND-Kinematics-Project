{
 "cells": [
  {
   "cell_type": "markdown",
   "metadata": {},
   "source": [
    "# Lesson 10 Notes and Examples"
   ]
  },
  {
   "cell_type": "markdown",
   "metadata": {},
   "source": [
    "Kinematics is a branch of classical mechanics that describes the motion of points, bodies (objects), and systems of bodies (groups of objects) without considering the mass of each or the forces that caused the motion.[1][2][3] Kinematics, as a field of study, is often referred to as the \"geometry of motion\" and is occasionally seen as a branch of mathematics.[4][5][6] A kinematics problem begins by describing the geometry of the system and declaring the initial conditions of any known values of position, velocity and/or acceleration of points within the system. Then, using arguments from geometry, the position, velocity and acceleration of any unknown parts of the system can be determined. The study of how forces act on masses falls within kinetics. For further details, see analytical dynamics."
   ]
  },
  {
   "cell_type": "markdown",
   "metadata": {},
   "source": [
    "## 4. Two DoF ARM Example"
   ]
  },
  {
   "cell_type": "code",
   "execution_count": 8,
   "metadata": {},
   "outputs": [
    {
     "name": "stdout",
     "output_type": "stream",
     "text": [
      "joint0_angle = 121.9 degrees\n",
      "joint1_angle = 118.8 degrees\n",
      "End Effector at x = -36.1 y = -24.4\n"
     ]
    },
    {
     "data": {
      "image/png": "[encoded data removed]",
      "text/plain": [
       "<matplotlib.figure.Figure at 0x7f8fbbb6d8d0>"
      ]
     },
     "metadata": {},
     "output_type": "display_data"
    }
   ],
   "source": [
    "import matplotlib.pyplot as plt\n",
    "import numpy as np\n",
    "import math\n",
    "\n",
    "# Define a function to compute the arm configuration\n",
    "def compute_arm_config(link1_length, link2_length, joint0_angle, joint1_angle):\n",
    "    # TODO: compute the (x, y) position of the p1 joint and the end effector at p2.  \n",
    "    joint1_x = link1_length * math.cos(joint0_angle)\n",
    "    joint1_y = link1_length * math.sin(joint0_angle)\n",
    "    vx = link2_length * math.cos(joint0_angle + joint1_angle)\n",
    "    vy = link2_length * math.sin(joint0_angle + joint1_angle)\n",
    "    p2_x = joint1_x + vx\n",
    "    p2_y = joint1_y + vy\n",
    "    return joint1_x, joint1_y, p2_x, p2_y\n",
    "    \n",
    "# Generate random link lengths and joint angles\n",
    "# Note: because these are randomly generated on each run\n",
    "# Every time you run the code you'll get a different result!\n",
    "link1_length = np.random.random() * 30 + 20\n",
    "link2_length = np.random.random() * 30 + 20\n",
    "joint0_angle = np.random.random() * 2 * np.pi\n",
    "joint1_angle = np.random.random() * 2 * np.pi\n",
    "\n",
    "joint1_x, joint1_y, p2_x, p2_y = compute_arm_config(link1_length, link2_length, joint0_angle, joint1_angle)\n",
    "\n",
    "print(\"joint0_angle =\", round(joint0_angle * 180 / np.pi, 1), \"degrees\") \n",
    "print(\"joint1_angle =\", round(joint1_angle * 180 / np.pi, 1),\"degrees\") \n",
    "print(\"End Effector at x =\", round(p2_x, 1),\"y =\", round(p2_y, 1))\n",
    "base_x = 0\n",
    "base_y = 0\n",
    "# Plot the links\n",
    "plt.plot([base_x, joint1_x, p2_x], [base_y, joint1_y, p2_y])\n",
    "# Plot the base as a blue square\n",
    "plt.plot(base_x, base_y, 'bs', markersize=15, label='Base')\n",
    "# Plot Joint-1 as a red circle\n",
    "plt.plot(joint1_x, joint1_y, 'ro', markersize=15, label='Joint-1')\n",
    "# Plot End Effector as a green triangle\n",
    "plt.plot(p2_x, p2_y, 'g^', markersize=15, label='End Effector')\n",
    "plt.xlim(-100, 100)\n",
    "plt.ylim(-100, 100)\n",
    "plt.legend(fontsize=15)\n",
    "plt.show() # Uncomment to run locally"
   ]
  },
  {
   "cell_type": "markdown",
   "metadata": {},
   "source": [
    "## 8. Euler Angles from a Rotation Matrix"
   ]
  },
  {
   "cell_type": "code",
   "execution_count": 10,
   "metadata": {},
   "outputs": [
    {
     "name": "stdout",
     "output_type": "stream",
     "text": [
      "alpha=45.0000000000000 beta=60.0000000000000 gamma=30.0000000000000\n"
     ]
    }
   ],
   "source": [
    "import numpy as np\n",
    "from sympy.matrices import Matrix\n",
    "from sympy import symbols, atan2, sqrt, sin, cos\n",
    "\n",
    "# Fixed Axis X-Y-Z Rotation Matrix\n",
    "R_XYZ = Matrix([[ 0.353553390593274, -0.306186217847897, 0.883883476483184],\n",
    "            [ 0.353553390593274,  0.918558653543692, 0.176776695296637],\n",
    "            [-0.866025403784439,               0.25, 0.433012701892219]])\n",
    "\n",
    "######## TO DO ##########\n",
    "# Calculate the Euler angles that produces a rotation equivalent to R (above)\n",
    "# NOTE: Be sure your answer has units of DEGREES!\n",
    "rtd = 180./np.pi\n",
    "alpha = rtd * atan2(R_XYZ[1,0], R_XYZ[0,0]) # rotation about Z-axis\n",
    "beta  = rtd * atan2(-R_XYZ[2,0], sqrt((R_XYZ[0,0]**2) + (R_XYZ[1,0]**2)))# rotation about Y-axis\n",
    "gamma = rtd * atan2(R_XYZ[2,1], R_XYZ[2,2]) # rotation about X-axis\n",
    "print('alpha={} beta={} gamma={}'.format(alpha, beta, gamma))"
   ]
  },
  {
   "cell_type": "markdown",
   "metadata": {},
   "source": [
    "## 10. Homogeneous Transforms and their Inverse"
   ]
  },
  {
   "cell_type": "code",
   "execution_count": 14,
   "metadata": {},
   "outputs": [
    {
     "name": "stdout",
     "output_type": "stream",
     "text": [
      "Matrix([[35.3367879231231], [0], [1.53976466853329], [1.00000000000000]])\n"
     ]
    }
   ],
   "source": [
    "\n",
    "###############################################################\n",
    "# Problem Statement:\n",
    "  # Let P be a vector expressed in frame {B} with (x,y,z)\n",
    "  # coordinates = (15.0, 0.0, 42.0)\n",
    "  # Rotate P about the Y-axis by angle = 110 degrees. \n",
    "  # Then translate the vector 1 unit\n",
    "  # in the X-axis and 30 units in the Z-axis. \n",
    "  # Print the new (x, y, z) coordinates of P after the transformation.  \n",
    "###############################################################\n",
    "#### Create symbols for joint variables\n",
    "q1 = symbols('q1')\n",
    "Tx = symbols('Tx')\n",
    "Ty = symbols('Ty')\n",
    "Tz = symbols('Tz')\n",
    "\n",
    "gamma  = symbols('gamma')\n",
    "\n",
    "#### TO DO ####\n",
    "# Replace P and T with appropriate expressions and calculate new coordinates of P in {A}. \n",
    "P = Matrix([15.0,0.0,42.0,1.0])     # P should be a 4x1 Matrix\n",
    "T = Matrix([[ cos(q1), 0, sin(q1), Tx],\n",
    "            [       0, 1,       0, Ty],\n",
    "            [-sin(q1), 0, cos(q1), Tz],\n",
    "            [       0, 0,       0,  1]])     # T Should be a 4x4 homogeneous Transform\n",
    "dtr = np.pi/180.\n",
    "P_new = T.evalf(subs={q1: 110*dtr, Tx: 1, Ty: 0, Tz: 30}) * P\n",
    "print(P_new)"
   ]
  },
  {
   "cell_type": "markdown",
   "metadata": {},
   "source": [
    "## 11.Composition of Homogeneous Transforms"
   ]
  },
  {
   "cell_type": "markdown",
   "metadata": {},
   "source": [
    "The following steps are taken to obtain coordinate frame E from frame A.\n",
    "\n",
    "From Frame A to B to E:\n",
    "\n",
    "Frame A: Located at [0, 0, 0]\n",
    "Frame B: Rotate Frame A about a_y by -90 degrees. Translate A by [-2, 2, 4]\n",
    "Frame E: Rotate Frame B about b_x by 90 degrees. Translate B by [0, 2, 0]\n",
    "From Frame A to C to D to E:\n",
    "\n",
    "Frame C: Translate A by [4, 4, 0]\n",
    "Frame D: Rotate Frame C about c_x by 90 degrees. Translate C by [-3, 3, 2]\n",
    "Frame E: Rotate Frame D about d_Z by 90 degrees. Translate D by [-3, 2, 3]"
   ]
  },
  {
   "cell_type": "code",
   "execution_count": 36,
   "metadata": {},
   "outputs": [
    {
     "name": "stdout",
     "output_type": "stream",
     "text": [
      "Transformation Matrix for A->B->E:\n",
      "Matrix([[0, -1.00000000000000, 0, -2.00000000000000], [0, 0, -1.00000000000000, 4.00000000000000], [1.00000000000000, 0, 0, 4.00000000000000], [0, 0, 0, 1.00000000000000]])\n",
      "Transformation Matrix for A->C->D->E:\n",
      "Matrix([[0, -1.00000000000000, 0, -2.00000000000000], [0, 0, -1.00000000000000, 4.00000000000000], [1.00000000000000, 0, 0, 4.00000000000000], [0, 0, 0, 1.00000000000000]])\n"
     ]
    }
   ],
   "source": [
    "from sympy import symbols, cos, sin, pi, sqrt, simplify, eye\n",
    "from sympy.matrices import Matrix\n",
    "import numpy as np\n",
    "\n",
    "### Create symbols for joint variables\n",
    "# The numbers 1 to 4 correspond to each rotation in the order specified to you.\n",
    "q1, q2, q3, q4 = symbols('q1:5')\n",
    "\n",
    "### Define functions for Rotation Matrices about x, y, and z given specific angle.\n",
    "dtr = pi/180.\n",
    "def rot_x(q):\n",
    "    R_x = Matrix([[ 1,              0,        0],\n",
    "                  [ 0,        cos(q), -sin(q)],\n",
    "                  [ 0,        sin(q),  cos(q)]])\n",
    "    return R_x\n",
    "    \n",
    "def rot_y(q):              \n",
    "    R_y = Matrix([[ cos(q),        0,  sin(q)],\n",
    "                  [       0,        1,        0],\n",
    "                  [-sin(q),        0,  cos(q)]])\n",
    "    return R_y\n",
    "\n",
    "def rot_z(q):    \n",
    "    R_z = Matrix([[ cos(q), -sin(q),        0],\n",
    "                  [ sin(q),  cos(q),        0],\n",
    "                  [ 0,              0,        1]])\n",
    "    return R_z\n",
    "              \n",
    "### Define rotations between frames\n",
    "\n",
    "# Initial Rotation Matrix for Frame A\n",
    "Ra = Matrix([[1, 0, 0],\n",
    "             [0, 1, 0],\n",
    "             [0, 0, 1]])\n",
    "\n",
    "# Rotations performed on individual Frames for A->B->E\n",
    "Rb_a = rot_y(q1)\n",
    "Re_b = rot_x(q2)\n",
    "\n",
    "# Rotations performed on individual Frames for A->C->D->E\n",
    "Rc_a = Ra\n",
    "Rd_c = rot_x(q3)\n",
    "Re_d = rot_z(q4)\n",
    "\n",
    "### Define Translations between frames.\n",
    "\n",
    "tb_a = Matrix([-2.0,2.0,4.0])\n",
    "te_b = Matrix([ 0.0,2.0,0.0])\n",
    "tc_a = Matrix([ 4.0,4.0,0.0])\n",
    "td_c = Matrix([-3.0,3.0,2.0])\n",
    "te_d = Matrix([-3.0,2.0,3.0])\n",
    "\n",
    "### Define homogenous transformation matrices\n",
    "# HINT: Check out sympy's documentation for functions row_join and col_join\n",
    "Ta = eye(4)\n",
    "\n",
    "Tb_a = Rb_a.row_join(tb_a)\n",
    "Tb_a = Tb_a.col_join(Matrix([[0.,0.,0.,1.]]))\n",
    "\n",
    "Te_b = Re_b.row_join(te_b)\n",
    "Te_b = Te_b.col_join(Matrix([[0.,0.,0.,1.]]))\n",
    "\n",
    "Tc_a = Rc_a.row_join(tc_a)\n",
    "Tc_a = Tc_a.col_join(Matrix([[0.,0.,0.,1.]]))\n",
    "\n",
    "Td_c = Rd_c.row_join(td_c)\n",
    "Td_c = Td_c.col_join(Matrix([[0.,0.,0.,1.]]))\n",
    "\n",
    "Te_d = Re_d.row_join(te_d)\n",
    "Te_d = Te_d.col_join(Matrix([[0.,0.,0.,1.]]))\n",
    "\n",
    "### Composition of Transformations\n",
    "Te_a_1 = simplify(Ta * Tb_a * Te_b)\n",
    "\n",
    "Te_a_2 = simplify(Ta * Tc_a * Td_c * Te_d)\n",
    "\n",
    "### Calculate orientation and position for E\n",
    "E_1 = Te_a_1.evalf(subs={q1: -90.*dtr, q2: 90.*dtr}, chop = True)\n",
    "\n",
    "E_2 = Te_a_2.evalf(subs={q3: 90.*dtr, q4: 90.*dtr}, chop = True)\n",
    "\n",
    "print(\"Transformation Matrix for A->B->E:\")\n",
    "print(E_1)\n",
    "\n",
    "print(\"Transformation Matrix for A->C->D->E:\")\n",
    "print(E_2)\n"
   ]
  },
  {
   "cell_type": "markdown",
   "metadata": {},
   "source": [
    "## 17. Forward Kinematics"
   ]
  },
  {
   "cell_type": "markdown",
   "metadata": {},
   "source": [
    "*Forward kinematics* problem of manipulators, that is, given the joint variables, calculate the location of the end effector"
   ]
  },
  {
   "cell_type": "code",
   "execution_count": 37,
   "metadata": {},
   "outputs": [
    {
     "name": "stdout",
     "output_type": "stream",
     "text": [
      "Matrix([[cos(q1 + q2 + q4), -sin(q1 + q2 + q4), 0, 0.45*cos(q1) + 0.3*cos(q1 + q2)], [sin(q1 + q2 + q4), cos(q1 + q2 + q4), 0, 0.45*sin(q1) + 0.3*sin(q1 + q2)], [0, 0, 1, d3], [0, 0, 0, 1]])\n",
      "Matrix([[1.00000000000000, 0, 0, 0.750000000000000], [0, 1.00000000000000, 0, 0], [0, 0, 1.00000000000000, 0], [0, 0, 0, 1.00000000000000]])\n"
     ]
    }
   ],
   "source": [
    "from sympy import symbols, cos, sin, pi, simplify\n",
    "from sympy.matrices import Matrix\n",
    "\n",
    "### Create symbols for joint variables\n",
    "q1, q2, q3, q4 = symbols('q1:5')\n",
    "d1, d2, d3, d4 = symbols('d1:5')\n",
    "a0, a1, a2, a3 = symbols('a0:4')\n",
    "alpha0, alpha1, alpha2, alpha3 = symbols('alpha0:4')\n",
    "\n",
    "a12 = 0.4500 # meters\n",
    "a23 = 0.3000 # meters\n",
    "\n",
    "# DH Parameters\n",
    "s = {alpha0: 0,  a0:   0, d1: 0, \n",
    "     alpha1: 0,  a1: a12, d2: 0,  \n",
    "     alpha2: 0,  a2: a23,        q3: 0,\n",
    "     alpha3: 0,  a3:   0, d4: 0}\n",
    "\n",
    "#### Homogeneous Transforms\n",
    "T0_1 = Matrix([[             cos(q1),            -sin(q1),            0,              a0],\n",
    "               [ sin(q1)*cos(alpha0), cos(q1)*cos(alpha0), -sin(alpha0), -sin(alpha0)*d1],\n",
    "               [ sin(q1)*sin(alpha0), cos(q1)*sin(alpha0),  cos(alpha0),  cos(alpha0)*d1],\n",
    "               [                   0,                   0,            0,               1]])\n",
    "T0_1 = T0_1.subs(s)\n",
    "\n",
    "T1_2 = Matrix([[             cos(q2),            -sin(q2),            0,              a1],\n",
    "               [ sin(q2)*cos(alpha1), cos(q2)*cos(alpha1), -sin(alpha1), -sin(alpha1)*d2],\n",
    "               [ sin(q2)*sin(alpha1), cos(q2)*sin(alpha1),  cos(alpha1),  cos(alpha1)*d2],\n",
    "               [                   0,                   0,            0,               1]])\n",
    "T1_2 = T1_2.subs(s)\n",
    "\n",
    "T2_3 = Matrix([[             cos(q3),            -sin(q3),            0,              a2],\n",
    "               [ sin(q3)*cos(alpha2), cos(q3)*cos(alpha2), -sin(alpha2), -sin(alpha2)*d3],\n",
    "               [ sin(q3)*sin(alpha2), cos(q3)*sin(alpha2),  cos(alpha2),  cos(alpha2)*d3],\n",
    "               [                   0,                   0,            0,               1]])\n",
    "T2_3 = T2_3.subs(s)\n",
    "\n",
    "T3_4 = Matrix([[             cos(q4),            -sin(q4),            0,              a3],\n",
    "               [ sin(q4)*cos(alpha3), cos(q4)*cos(alpha3), -sin(alpha3), -sin(alpha3)*d4],\n",
    "               [ sin(q4)*sin(alpha3), cos(q4)*sin(alpha3),  cos(alpha3),  cos(alpha3)*d4],\n",
    "               [                   0,                   0,            0,               1]])\n",
    "T3_4 = T3_4.subs(s)\n",
    "\n",
    "# Transform from base link to end effector\n",
    "T0_4 = simplify(T0_1 * T1_2 * T2_3 * T3_4)\n",
    "\n",
    "print(T0_4)\n",
    "\n",
    "print(T0_4.evalf(subs={q1: 0, q2: 0, d3: 0, q4: 0}))"
   ]
  },
  {
   "cell_type": "markdown",
   "metadata": {},
   "source": [
    "# KR210 Kinematics Analysis"
   ]
  },
  {
   "cell_type": "code",
   "execution_count": 4,
   "metadata": {},
   "outputs": [],
   "source": [
    "from mpmath import *\n",
    "from sympy import *\n",
    "import numpy as np\n",
    "init_printing(use_unicode=True)"
   ]
  },
  {
   "cell_type": "code",
   "execution_count": 5,
   "metadata": {},
   "outputs": [
    {
     "data": {
      "text/html": [
       "<style> code {background-color : white !important;} </style>"
      ],
      "text/plain": [
       "<IPython.core.display.HTML object>"
      ]
     },
     "metadata": {},
     "output_type": "display_data"
    }
   ],
   "source": [
    "%%HTML\n",
    "<style> code {background-color : white !important;} </style>"
   ]
  },
  {
   "cell_type": "markdown",
   "metadata": {},
   "source": [
    "## DH Paramter Table"
   ]
  },
  {
   "cell_type": "code",
   "execution_count": null,
   "metadata": {},
   "outputs": [],
   "source": [
    "### Create symbols for joint variables\n",
    "# The numbers 1 to 4 correspond to each rotation in the order specified to you.\n",
    "q1, q2, q3, q4, q5, q6, qG = symbols('q1:7,qG')\n",
    "d1, d2, d3, d4, d5, d6, dG = symbols('d1:7,dG')\n",
    "a0, a1, a2, a3, a4, a5, a6 = symbols('a0:7')\n",
    "alpha0, alpha1, alpha2, alpha3, alpha4, alpha5, alpha6 = symbols('alpha0:7')\n",
    "\n",
    "### KUKA KR210 ##\n",
    "# DH Parameters       \n",
    "s = {alpha0:     0, a0:      0, d1:  0.75,\n",
    "     alpha1: -pi/2, a1:   0.35, d2:     0, q2: q2-pi/2,\n",
    "     alpha2:     0, a2:   1.25, d3:     0,\n",
    "     alpha3: -pi/2, a3: -0.054, d4:  1.50,\n",
    "     alpha4:  pi/2, a4:      0, d5:     0,\n",
    "     alpha5: -pi/2, a5:      0, d6:     0,\n",
    "     alpha6:     0, a6:      0, dG: 0.303, qG: 0}"
   ]
  },
  {
   "cell_type": "markdown",
   "metadata": {},
   "source": [
    "## Homogeneous Transform Derivation"
   ]
  },
  {
   "cell_type": "code",
   "execution_count": 10,
   "metadata": {},
   "outputs": [
    {
     "data": {
      "text/latex": [
       "$$\\left[\\begin{matrix}- \\left(\\sin{\\left (q_{1} \\right )} \\sin{\\left (q_{4} \\right )} + \\sin{\\left (q_{2} + q_{3} \\right )} \\cos{\\left (q_{1} \\right )} \\cos{\\left (q_{4} \\right )}\\right) \\sin{\\left (q_{5} \\right )} + \\cos{\\left (q_{1} \\right )} \\cos{\\left (q_{5} \\right )} \\cos{\\left (q_{2} + q_{3} \\right )} & \\left(\\left(\\sin{\\left (q_{1} \\right )} \\sin{\\left (q_{4} \\right )} + \\sin{\\left (q_{2} + q_{3} \\right )} \\cos{\\left (q_{1} \\right )} \\cos{\\left (q_{4} \\right )}\\right) \\cos{\\left (q_{5} \\right )} + \\sin{\\left (q_{5} \\right )} \\cos{\\left (q_{1} \\right )} \\cos{\\left (q_{2} + q_{3} \\right )}\\right) \\sin{\\left (q_{6} \\right )} - \\left(\\sin{\\left (q_{1} \\right )} \\cos{\\left (q_{4} \\right )} - \\sin{\\left (q_{4} \\right )} \\sin{\\left (q_{2} + q_{3} \\right )} \\cos{\\left (q_{1} \\right )}\\right) \\cos{\\left (q_{6} \\right )} & \\left(\\left(\\sin{\\left (q_{1} \\right )} \\sin{\\left (q_{4} \\right )} + \\sin{\\left (q_{2} + q_{3} \\right )} \\cos{\\left (q_{1} \\right )} \\cos{\\left (q_{4} \\right )}\\right) \\cos{\\left (q_{5} \\right )} + \\sin{\\left (q_{5} \\right )} \\cos{\\left (q_{1} \\right )} \\cos{\\left (q_{2} + q_{3} \\right )}\\right) \\cos{\\left (q_{6} \\right )} + \\left(\\sin{\\left (q_{1} \\right )} \\cos{\\left (q_{4} \\right )} - \\sin{\\left (q_{4} \\right )} \\sin{\\left (q_{2} + q_{3} \\right )} \\cos{\\left (q_{1} \\right )}\\right) \\sin{\\left (q_{6} \\right )} & - 0.303 \\left(\\sin{\\left (q_{1} \\right )} \\sin{\\left (q_{4} \\right )} + \\sin{\\left (q_{2} + q_{3} \\right )} \\cos{\\left (q_{1} \\right )} \\cos{\\left (q_{4} \\right )}\\right) \\sin{\\left (q_{5} \\right )} + \\left(1.25 \\sin{\\left (q_{2} \\right )} - 0.054 \\sin{\\left (q_{2} + q_{3} \\right )} + 1.5 \\cos{\\left (q_{2} + q_{3} \\right )} + 0.35\\right) \\cos{\\left (q_{1} \\right )} + 0.303 \\cos{\\left (q_{1} \\right )} \\cos{\\left (q_{5} \\right )} \\cos{\\left (q_{2} + q_{3} \\right )}\\\\- \\left(\\sin{\\left (q_{1} \\right )} \\sin{\\left (q_{2} + q_{3} \\right )} \\cos{\\left (q_{4} \\right )} - \\sin{\\left (q_{4} \\right )} \\cos{\\left (q_{1} \\right )}\\right) \\sin{\\left (q_{5} \\right )} + \\sin{\\left (q_{1} \\right )} \\cos{\\left (q_{5} \\right )} \\cos{\\left (q_{2} + q_{3} \\right )} & \\left(\\left(\\sin{\\left (q_{1} \\right )} \\sin{\\left (q_{2} + q_{3} \\right )} \\cos{\\left (q_{4} \\right )} - \\sin{\\left (q_{4} \\right )} \\cos{\\left (q_{1} \\right )}\\right) \\cos{\\left (q_{5} \\right )} + \\sin{\\left (q_{1} \\right )} \\sin{\\left (q_{5} \\right )} \\cos{\\left (q_{2} + q_{3} \\right )}\\right) \\sin{\\left (q_{6} \\right )} + \\left(\\sin{\\left (q_{1} \\right )} \\sin{\\left (q_{4} \\right )} \\sin{\\left (q_{2} + q_{3} \\right )} + \\cos{\\left (q_{1} \\right )} \\cos{\\left (q_{4} \\right )}\\right) \\cos{\\left (q_{6} \\right )} & \\left(\\left(\\sin{\\left (q_{1} \\right )} \\sin{\\left (q_{2} + q_{3} \\right )} \\cos{\\left (q_{4} \\right )} - \\sin{\\left (q_{4} \\right )} \\cos{\\left (q_{1} \\right )}\\right) \\cos{\\left (q_{5} \\right )} + \\sin{\\left (q_{1} \\right )} \\sin{\\left (q_{5} \\right )} \\cos{\\left (q_{2} + q_{3} \\right )}\\right) \\cos{\\left (q_{6} \\right )} - \\left(\\sin{\\left (q_{1} \\right )} \\sin{\\left (q_{4} \\right )} \\sin{\\left (q_{2} + q_{3} \\right )} + \\cos{\\left (q_{1} \\right )} \\cos{\\left (q_{4} \\right )}\\right) \\sin{\\left (q_{6} \\right )} & - 0.303 \\left(\\sin{\\left (q_{1} \\right )} \\sin{\\left (q_{2} + q_{3} \\right )} \\cos{\\left (q_{4} \\right )} - \\sin{\\left (q_{4} \\right )} \\cos{\\left (q_{1} \\right )}\\right) \\sin{\\left (q_{5} \\right )} + \\left(1.25 \\sin{\\left (q_{2} \\right )} - 0.054 \\sin{\\left (q_{2} + q_{3} \\right )} + 1.5 \\cos{\\left (q_{2} + q_{3} \\right )} + 0.35\\right) \\sin{\\left (q_{1} \\right )} + 0.303 \\sin{\\left (q_{1} \\right )} \\cos{\\left (q_{5} \\right )} \\cos{\\left (q_{2} + q_{3} \\right )}\\\\- \\sin{\\left (q_{5} \\right )} \\cos{\\left (q_{4} \\right )} \\cos{\\left (q_{2} + q_{3} \\right )} - \\sin{\\left (q_{2} + q_{3} \\right )} \\cos{\\left (q_{5} \\right )} & - \\left(\\sin{\\left (q_{5} \\right )} \\sin{\\left (q_{2} + q_{3} \\right )} - \\cos{\\left (q_{4} \\right )} \\cos{\\left (q_{5} \\right )} \\cos{\\left (q_{2} + q_{3} \\right )}\\right) \\sin{\\left (q_{6} \\right )} + \\sin{\\left (q_{4} \\right )} \\cos{\\left (q_{6} \\right )} \\cos{\\left (q_{2} + q_{3} \\right )} & - \\left(\\sin{\\left (q_{5} \\right )} \\sin{\\left (q_{2} + q_{3} \\right )} - \\cos{\\left (q_{4} \\right )} \\cos{\\left (q_{5} \\right )} \\cos{\\left (q_{2} + q_{3} \\right )}\\right) \\cos{\\left (q_{6} \\right )} - \\sin{\\left (q_{4} \\right )} \\sin{\\left (q_{6} \\right )} \\cos{\\left (q_{2} + q_{3} \\right )} & - 0.303 \\sin{\\left (q_{5} \\right )} \\cos{\\left (q_{4} \\right )} \\cos{\\left (q_{2} + q_{3} \\right )} - 0.303 \\sin{\\left (q_{2} + q_{3} \\right )} \\cos{\\left (q_{5} \\right )} - 1.5 \\sin{\\left (q_{2} + q_{3} \\right )} + 1.25 \\cos{\\left (q_{2} \\right )} - 0.054 \\cos{\\left (q_{2} + q_{3} \\right )} + 0.75\\\\0 & 0 & 0 & 1\\end{matrix}\\right]$$"
      ],
      "text/plain": [
       "⎡-(sin(q₁)⋅sin(q₄) + sin(q₂ + q₃)⋅cos(q₁)⋅cos(q₄))⋅sin(q₅) + cos(q₁)⋅cos(q₅)⋅c\n",
       "⎢                                                                             \n",
       "⎢-(sin(q₁)⋅sin(q₂ + q₃)⋅cos(q₄) - sin(q₄)⋅cos(q₁))⋅sin(q₅) + sin(q₁)⋅cos(q₅)⋅c\n",
       "⎢                                                                             \n",
       "⎢                  -sin(q₅)⋅cos(q₄)⋅cos(q₂ + q₃) - sin(q₂ + q₃)⋅cos(q₅)       \n",
       "⎢                                                                             \n",
       "⎣                                           0                                 \n",
       "\n",
       "os(q₂ + q₃)  ((sin(q₁)⋅sin(q₄) + sin(q₂ + q₃)⋅cos(q₁)⋅cos(q₄))⋅cos(q₅) + sin(q\n",
       "                                                                              \n",
       "os(q₂ + q₃)  ((sin(q₁)⋅sin(q₂ + q₃)⋅cos(q₄) - sin(q₄)⋅cos(q₁))⋅cos(q₅) + sin(q\n",
       "                                                                              \n",
       "                                            -(sin(q₅)⋅sin(q₂ + q₃) - cos(q₄)⋅c\n",
       "                                                                              \n",
       "                                                                              \n",
       "\n",
       "₅)⋅cos(q₁)⋅cos(q₂ + q₃))⋅sin(q₆) - (sin(q₁)⋅cos(q₄) - sin(q₄)⋅sin(q₂ + q₃)⋅cos\n",
       "                                                                              \n",
       "₁)⋅sin(q₅)⋅cos(q₂ + q₃))⋅sin(q₆) + (sin(q₁)⋅sin(q₄)⋅sin(q₂ + q₃) + cos(q₁)⋅cos\n",
       "                                                                              \n",
       "os(q₅)⋅cos(q₂ + q₃))⋅sin(q₆) + sin(q₄)⋅cos(q₆)⋅cos(q₂ + q₃)                   \n",
       "                                                                              \n",
       "            0                                                                 \n",
       "\n",
       "(q₁))⋅cos(q₆)  ((sin(q₁)⋅sin(q₄) + sin(q₂ + q₃)⋅cos(q₁)⋅cos(q₄))⋅cos(q₅) + sin\n",
       "                                                                              \n",
       "(q₄))⋅cos(q₆)  ((sin(q₁)⋅sin(q₂ + q₃)⋅cos(q₄) - sin(q₄)⋅cos(q₁))⋅cos(q₅) + sin\n",
       "                                                                              \n",
       "                                              -(sin(q₅)⋅sin(q₂ + q₃) - cos(q₄)\n",
       "                                                                              \n",
       "                                                                              \n",
       "\n",
       "(q₅)⋅cos(q₁)⋅cos(q₂ + q₃))⋅cos(q₆) + (sin(q₁)⋅cos(q₄) - sin(q₄)⋅sin(q₂ + q₃)⋅c\n",
       "                                                                              \n",
       "(q₁)⋅sin(q₅)⋅cos(q₂ + q₃))⋅cos(q₆) - (sin(q₁)⋅sin(q₄)⋅sin(q₂ + q₃) + cos(q₁)⋅c\n",
       "                                                                              \n",
       "⋅cos(q₅)⋅cos(q₂ + q₃))⋅cos(q₆) - sin(q₄)⋅sin(q₆)⋅cos(q₂ + q₃)                 \n",
       "                                                                              \n",
       "              0                                                               \n",
       "\n",
       "os(q₁))⋅sin(q₆)  -0.303⋅(sin(q₁)⋅sin(q₄) + sin(q₂ + q₃)⋅cos(q₁)⋅cos(q₄))⋅sin(q\n",
       "                                                                              \n",
       "os(q₄))⋅sin(q₆)  -0.303⋅(sin(q₁)⋅sin(q₂ + q₃)⋅cos(q₄) - sin(q₄)⋅cos(q₁))⋅sin(q\n",
       "                                                                              \n",
       "                                        -0.303⋅sin(q₅)⋅cos(q₄)⋅cos(q₂ + q₃) - \n",
       "                                                                              \n",
       "                                                                              \n",
       "\n",
       "₅) + (1.25⋅sin(q₂) - 0.054⋅sin(q₂ + q₃) + 1.5⋅cos(q₂ + q₃) + 0.35)⋅cos(q₁) + 0\n",
       "                                                                              \n",
       "₅) + (1.25⋅sin(q₂) - 0.054⋅sin(q₂ + q₃) + 1.5⋅cos(q₂ + q₃) + 0.35)⋅sin(q₁) + 0\n",
       "                                                                              \n",
       "0.303⋅sin(q₂ + q₃)⋅cos(q₅) - 1.5⋅sin(q₂ + q₃) + 1.25⋅cos(q₂) - 0.054⋅cos(q₂ + \n",
       "                                                                              \n",
       "                        1                                                     \n",
       "\n",
       ".303⋅cos(q₁)⋅cos(q₅)⋅cos(q₂ + q₃)⎤\n",
       "                                 ⎥\n",
       ".303⋅sin(q₁)⋅cos(q₅)⋅cos(q₂ + q₃)⎥\n",
       "                                 ⎥\n",
       "q₃) + 0.75                       ⎥\n",
       "                                 ⎥\n",
       "                                 ⎦"
      ]
     },
     "execution_count": 10,
     "metadata": {},
     "output_type": "execute_result"
    }
   ],
   "source": [
    "### Define functions for Rotation Matrices about x, y, and z given specific angle.\n",
    "\n",
    "def rot_x(q):\n",
    "    R_x = Matrix([[ 1,              0,       0, 0],\n",
    "                  [ 0,         cos(q), -sin(q), 0],\n",
    "                  [ 0,         sin(q),  cos(q), 0],\n",
    "                  [ 0,              0,       0, 1]])\n",
    "    return R_x\n",
    "\n",
    "def rot_y(q):              \n",
    "    R_y = Matrix([[  cos(q),        0,  sin(q), 0],\n",
    "                  [       0,        1,       0, 0],\n",
    "                  [ -sin(q),        0,  cos(q), 0],\n",
    "                  [       0,        0,       0, 1]])\n",
    "    return R_y\n",
    "\n",
    "def rot_z(q):    \n",
    "    R_z = Matrix([[ cos(q), -sin(q),        0, 0],\n",
    "                  [ sin(q),  cos(q),        0, 0],\n",
    "                  [ 0,              0,      1, 0],\n",
    "                  [ 0,              0,      0, 1]])\n",
    "    return R_z\n",
    "\n",
    "def T_i(alpha, a, theta, d):\n",
    "    T = Matrix([[cos(theta), -sin(theta), 0, a],\n",
    "                [sin(theta) * cos(alpha), cos(theta) *\n",
    "                 cos(alpha), -sin(alpha), -sin(alpha) * d],\n",
    "                [sin(theta) * sin(alpha), cos(theta) *\n",
    "                 sin(alpha),  cos(alpha),  cos(alpha) * d],\n",
    "                [0, 0, 0, 1]])\n",
    "    return T\n",
    "\n",
    "T0_1 = T_i(alpha0, a0, q1, d1)\n",
    "T0_1 = T0_1.subs(s)\n",
    "\n",
    "T1_2 = T_i(alpha1, a1, q2, d2)\n",
    "T1_2 = T1_2.subs(s)\n",
    "\n",
    "T2_3 = T_i(alpha2, a2, q3, d3)\n",
    "T2_3 = T2_3.subs(s)\n",
    "\n",
    "T3_4 = T_i(alpha3, a3, q4, d4)\n",
    "T3_4 = T3_4.subs(s)\n",
    "\n",
    "T4_5 = T_i(alpha4, a4, q5, d5)\n",
    "T4_5 = T4_5.subs(s)\n",
    "\n",
    "T5_6 = T_i(alpha5, a5, q6, d6)\n",
    "T5_6 = T5_6.subs(s)\n",
    "\n",
    "T6_G = T_i(alpha6, a6, qG, dG)\n",
    "T6_G = T6_G.subs(s)\n",
    "\n",
    "T0_2 = simplify(T0_1 * T1_2)\n",
    "T0_3 = simplify(T0_2 * T2_3)\n",
    "T0_4 = simplify(T0_3 * T3_4)\n",
    "T0_5 = simplify(T0_4 * T4_5)\n",
    "T0_6 = simplify(T0_5 * T5_6)\n",
    "T0_G = simplify(T0_6 * T6_G)\n",
    "\n",
    "R_z = rot_z(pi)\n",
    "R_y = rot_y(-pi/2)\n",
    "R_corr = simplify(R_z * R_y) # Intrinsic rotation about Z and then Y\n",
    "\n",
    "T_total = simplify(T0_G * R_corr)\n",
    "T_total"
   ]
  },
  {
   "cell_type": "code",
   "execution_count": 9,
   "metadata": {},
   "outputs": [
    {
     "data": {
      "text/latex": [
       "$$\\left[\\begin{matrix}1.0 & 0 & 0 & 2.153\\\\0 & 1.0 & 0 & 0\\\\0 & 0 & 1.0 & 1.946\\\\0 & 0 & 0 & 1.0\\end{matrix}\\right]$$"
      ],
      "text/plain": [
       "⎡1.0   0    0   2.153⎤\n",
       "⎢                    ⎥\n",
       "⎢ 0   1.0   0     0  ⎥\n",
       "⎢                    ⎥\n",
       "⎢ 0    0   1.0  1.946⎥\n",
       "⎢                    ⎥\n",
       "⎣ 0    0    0    1.0 ⎦"
      ]
     },
     "execution_count": 9,
     "metadata": {},
     "output_type": "execute_result"
    }
   ],
   "source": [
    "T_total.evalf(subs={q1: 0, q2: 0, q3: 0, q4: 0, q5: 0, q6: 0})"
   ]
  },
  {
   "cell_type": "code",
   "execution_count": 8,
   "metadata": {},
   "outputs": [],
   "source": [
    "def quaternion_to_euler_angle(w, x, y, z):\n",
    "    ysqr = y * y\n",
    "\n",
    "    t0 = +2.0 * (w * x + y * z)\n",
    "    t1 = +1.0 - 2.0 * (x * x + ysqr)\n",
    "    X = float(atan2(t0, t1))\n",
    "\n",
    "    t2 = +2.0 * (w * y - z * x)\n",
    "    t2 = +1.0 if t2 > +1.0 else t2\n",
    "    t2 = -1.0 if t2 < -1.0 else t2\n",
    "    Y = float(asin(t2))\n",
    "    \n",
    "    t3 = +2.0 * (w * z + x * y)\n",
    "    t4 = +1.0 - 2.0 * (ysqr + z * z)\n",
    "    Z = float(atan2(t3, t4))\n",
    "\n",
    "    return X, Y, Z"
   ]
  },
  {
   "cell_type": "code",
   "execution_count": 38,
   "metadata": {},
   "outputs": [
    {
     "data": {
      "text/latex": [
       "$$\\left[\\begin{matrix}2.16135\\\\-1.42635\\\\1.55109\\\\1.0\\end{matrix}\\right]$$"
      ],
      "text/plain": [
       "⎡2.16135 ⎤\n",
       "⎢        ⎥\n",
       "⎢-1.42635⎥\n",
       "⎢        ⎥\n",
       "⎢1.55109 ⎥\n",
       "⎢        ⎥\n",
       "⎣  1.0   ⎦"
      ]
     },
     "execution_count": 38,
     "metadata": {},
     "output_type": "execute_result"
    }
   ],
   "source": [
    "# Format of test case is [ [[EE position],[EE orientation as quaternions]],[WC location],[joint angles]]\n",
    "test_cases = {1:[[[2.16135,-1.42635,1.55109],\n",
    "                  [0.708611,0.186356,-0.157931,0.661967]],\n",
    "                  [1.89451,-1.44302,1.69366],\n",
    "                  [-0.65,0.45,-0.36,0.95,0.79,0.49]],\n",
    "              2:[[[-0.56754,0.93663,3.0038],\n",
    "                  [0.62073, 0.48318,0.38759,0.480629]],\n",
    "                  [-0.638,0.64198,2.9988],\n",
    "                  [-0.79,-0.11,-2.33,1.94,1.14,-3.68]],\n",
    "              3:[[[-1.3863,0.02074,0.90986],\n",
    "                  [0.01735,-0.2179,0.9025,0.371016]],\n",
    "                  [-1.1669,-0.17989,0.85137],\n",
    "                  [-2.99,-0.12,0.94,4.06,1.29,-4.12]],\n",
    "              4:[[[1.93844, 0.936621, 1.94653],\n",
    "                  [3.31059e-05, -0.000144612, 0.223157, 0.974783]],\n",
    "                  [0,0,0],\n",
    "                  [0,0,0,0]]}\n",
    "              \n",
    "case_num = 1\n",
    "\n",
    "EE_0 = Matrix(test_cases[case_num][0][0]).col_join(Matrix([1.]))\n",
    "qx, qy, qz, qw = test_cases[case_num][0][1]\n",
    "roll, pitch, yaw = quaternion_to_euler_angle(qw, qx, qy, qz)\n",
    "\n",
    "EE_0"
   ]
  },
  {
   "cell_type": "code",
   "execution_count": 39,
   "metadata": {},
   "outputs": [
    {
     "data": {
      "text/latex": [
       "$$\\left[\\begin{matrix}1.65443667112626\\\\0.489909836665913\\\\0.0623921697260466\\end{matrix}\\right]$$"
      ],
      "text/plain": [
       "⎡ 1.65443667112626 ⎤\n",
       "⎢                  ⎥\n",
       "⎢0.489909836665913 ⎥\n",
       "⎢                  ⎥\n",
       "⎣0.0623921697260466⎦"
      ]
     },
     "execution_count": 39,
     "metadata": {},
     "output_type": "execute_result"
    }
   ],
   "source": [
    "Matrix([roll, pitch, yaw])"
   ]
  },
  {
   "cell_type": "markdown",
   "metadata": {},
   "source": [
    "## Inverse Position Kinematics"
   ]
  },
  {
   "cell_type": "markdown",
   "metadata": {},
   "source": [
    "\\begin{align}\n",
    "R_X & =\n",
    "\\begin{bmatrix}\n",
    "1 & 0 & 0 \\\\\n",
    "0 & \\cos(\\gamma) & -\\sin(\\gamma) \\\\\n",
    "0 & \\sin(\\gamma) & \\cos(\\gamma)\n",
    "\\end{bmatrix} \\\\\n",
    "R_Y & =\n",
    "\\begin{bmatrix}\n",
    "\\cos(\\beta) & 0 & \\sin(\\beta) \\\\\n",
    "0 & 1 & 0 \\\\\n",
    "-\\sin(\\beta) & 0 & \\cos(\\beta)\n",
    "\\end{bmatrix} \\\\\n",
    "R_Z & =\n",
    "\\begin{bmatrix}\n",
    "\\cos(\\alpha) & -\\sin(\\alpha) & 0 \\\\\n",
    "\\sin(\\alpha) & \\cos(\\alpha) & 0 \\\\\n",
    "0 & 0 & 1\n",
    "\\end{bmatrix} \\\\\n",
    "^{DH}_{URDF}R = R_{corr} & = R_Z(\\pi)\\;R_Y(\\frac{-\\pi}{2}) \\\\\n",
    "R_{rpy} & = R_Z(yaw)\\;R_Y(pitch)\\;R_X(roll)\\;R_{corr} =\n",
    "\\begin{bmatrix}\n",
    "l_x & m_x & n_x \\\\\n",
    "l_y & m_y & n_y \\\\\n",
    "l_z & m_z & n_z\n",
    "\\end{bmatrix} \\\\\n",
    "_0WC & = _0EE - d_G.n\n",
    "\\end{align}"
   ]
  },
  {
   "cell_type": "code",
   "execution_count": 40,
   "metadata": {},
   "outputs": [
    {
     "data": {
      "text/latex": [
       "$$\\left[\\begin{matrix}0.022899431751322 & -0.473198058711374 & 0.880658397596511 & 0\\\\-0.997016321214639 & 0.0541435058209021 & 0.0550175972671376 & 0\\\\-0.0737161532982667 & -0.879290667532193 & -0.470546332186 & 0\\\\0 & 0 & 0 & 1\\end{matrix}\\right]$$"
      ],
      "text/plain": [
       "⎡ 0.022899431751322   -0.473198058711374  0.880658397596511   0⎤\n",
       "⎢                                                              ⎥\n",
       "⎢-0.997016321214639   0.0541435058209021  0.0550175972671376  0⎥\n",
       "⎢                                                              ⎥\n",
       "⎢-0.0737161532982667  -0.879290667532193   -0.470546332186    0⎥\n",
       "⎢                                                              ⎥\n",
       "⎣         0                   0                   0           1⎦"
      ]
     },
     "execution_count": 40,
     "metadata": {},
     "output_type": "execute_result"
    }
   ],
   "source": [
    "Rrpy = rot_z(yaw) * rot_y(pitch) * rot_x(roll) * R_corr # x-y-z extrinsic rotation\n",
    "Rrpy"
   ]
  },
  {
   "cell_type": "code",
   "execution_count": 41,
   "metadata": {},
   "outputs": [
    {
     "data": {
      "text/latex": [
       "$$\\left[\\begin{matrix}0.880658397596511\\\\0.0550175972671376\\\\-0.470546332186\\\\0\\end{matrix}\\right]$$"
      ],
      "text/plain": [
       "⎡0.880658397596511 ⎤\n",
       "⎢                  ⎥\n",
       "⎢0.0550175972671376⎥\n",
       "⎢                  ⎥\n",
       "⎢ -0.470546332186  ⎥\n",
       "⎢                  ⎥\n",
       "⎣        0         ⎦"
      ]
     },
     "execution_count": 41,
     "metadata": {},
     "output_type": "execute_result"
    }
   ],
   "source": [
    "n_0 = Rrpy.col(2)\n",
    "n_0"
   ]
  },
  {
   "cell_type": "code",
   "execution_count": 42,
   "metadata": {},
   "outputs": [
    {
     "data": {
      "text/latex": [
       "$$\\left[\\begin{matrix}1.89451050552826\\\\-1.44302033197194\\\\1.69366553865236\\\\1.0\\end{matrix}\\right]$$"
      ],
      "text/plain": [
       "⎡1.89451050552826 ⎤\n",
       "⎢                 ⎥\n",
       "⎢-1.44302033197194⎥\n",
       "⎢                 ⎥\n",
       "⎢1.69366553865236 ⎥\n",
       "⎢                 ⎥\n",
       "⎣       1.0       ⎦"
      ]
     },
     "execution_count": 42,
     "metadata": {},
     "output_type": "execute_result"
    }
   ],
   "source": [
    "WC_0 = EE_0 - dG*n_0\n",
    "WC_0 = WC_0.subs(s)\n",
    "WC_0"
   ]
  },
  {
   "cell_type": "markdown",
   "metadata": {},
   "source": [
    "\\begin{align}\n",
    "\\theta_1 = atan2(_0WC_y, _0WC_x) \\\\\n",
    "\\end{align}"
   ]
  },
  {
   "cell_type": "code",
   "execution_count": 43,
   "metadata": {},
   "outputs": [
    {
     "data": {
      "image/png": "[encoded data removed]",
      "text/latex": [
       "$$-37.29598255747345$$"
      ],
      "text/plain": [
       "-37.29598255747345"
      ]
     },
     "execution_count": 43,
     "metadata": {},
     "output_type": "execute_result"
    }
   ],
   "source": [
    "theta1 = float(atan2(WC_0[1], WC_0[0]))\n",
    "float(degrees(theta1))"
   ]
  },
  {
   "cell_type": "markdown",
   "metadata": {},
   "source": [
    "\\begin{align}\n",
    "_2O_x & = a_1 \\times \\cos(\\theta_1) \\\\\n",
    "_2O_y & = a_1 \\times \\sin(\\theta_1) \\\\\n",
    "_2O_z & = d_1 \\\\\n",
    "_2WC & = _0WC - _2O \\\\\n",
    "\\text{where}&\\;_2WC \\text{ is the wrist center in frame }_2O\n",
    "\\end{align}"
   ]
  },
  {
   "cell_type": "code",
   "execution_count": 49,
   "metadata": {},
   "outputs": [
    {
     "data": {
      "text/latex": [
       "$$\\left[\\begin{matrix}1.61607991625526\\\\-1.23094391424217\\\\0.943665538652358\\end{matrix}\\right]$$"
      ],
      "text/plain": [
       "⎡1.61607991625526 ⎤\n",
       "⎢                 ⎥\n",
       "⎢-1.23094391424217⎥\n",
       "⎢                 ⎥\n",
       "⎣0.943665538652358⎦"
      ]
     },
     "execution_count": 49,
     "metadata": {},
     "output_type": "execute_result"
    }
   ],
   "source": [
    "#print('\\nWC:\\nExpected={}\\nActual={}'.format(test_cases[case_num][1], WC_0))\n",
    "O2_x = a1*cos(theta1)\n",
    "O2_y = a1*sin(theta1)\n",
    "O2_z = d1\n",
    "WC_2 = Matrix([WC_0[0] - O2_x, WC_0[1] - O2_y, WC_0[2] - O2_z])\n",
    "WC_2 = WC_2.subs(s)\n",
    "WC_2"
   ]
  },
  {
   "cell_type": "markdown",
   "metadata": {},
   "source": [
    "\\begin{align}\n",
    "A & = \\sqrt{d_4^2 + a_3^2} \\\\\n",
    "B & = \\sqrt{_2WC_x^2 + _2WC_y^2 + _2WC_z^2} \\\\\n",
    "C & = a_2 \\\\\n",
    "\\text{where} & \\text{ A, B, and C are the sides of an SSS triangle}\n",
    "\\end{align}"
   ]
  },
  {
   "cell_type": "code",
   "execution_count": 50,
   "metadata": {},
   "outputs": [],
   "source": [
    "A = sqrt(s[d4]*s[d4] + s[a3]*s[a3])\n",
    "B = sqrt(WC_2[0]*WC_2[0] + WC_2[1]*WC_2[1] + WC_2[2]*WC_2[2])\n",
    "C = s[a2]\n",
    "#print('A,B,C=', A, B, C)"
   ]
  },
  {
   "cell_type": "markdown",
   "metadata": {},
   "source": [
    "\\begin{align}\n",
    "\\phi_1 & = \\arccos(\\frac{B^2+C^2-A^2}{2BC}) \\\\\n",
    "\\phi_2 & = \\arcsin(\\frac{_2WC_z}{B}) \\\\\n",
    "\\phi_3 & = \\arccos(\\frac{A^2+C^2-B^2}{2AC}) \\\\\n",
    "\\phi_4 & = \\arccos(\\frac{d_4}{A})\n",
    "\\end{align}"
   ]
  },
  {
   "cell_type": "code",
   "execution_count": null,
   "metadata": {},
   "outputs": [],
   "source": [
    "phi1 = acos((B*B+C*C-A*A)/(2*B*C))\n",
    "phi2 = asin(WC_2[2]/B)\n",
    "phi3 = acos((A*A+C*C-B*B)/(2*A*C))\n",
    "phi4 = acos(s[d4]/A)"
   ]
  },
  {
   "cell_type": "markdown",
   "metadata": {},
   "source": [
    "\\begin{align}\n",
    "\\theta_2 & = \\frac{\\pi}{2} - (\\phi_1 + \\phi_2) \\\\\n",
    "\\theta_3 & = \\frac{\\pi}{2} - (\\phi_3 + \\phi_4)\n",
    "\\end{align}"
   ]
  },
  {
   "cell_type": "code",
   "execution_count": 51,
   "metadata": {},
   "outputs": [
    {
     "data": {
      "image/png": "[encoded data removed]",
      "text/latex": [
       "$$25.68075305926229$$"
      ],
      "text/plain": [
       "25.68075305926229"
      ]
     },
     "execution_count": 51,
     "metadata": {},
     "output_type": "execute_result"
    }
   ],
   "source": [
    "theta2 = float(pi/2 - (phi1 + phi2))\n",
    "float(degrees(theta2))"
   ]
  },
  {
   "cell_type": "code",
   "execution_count": 52,
   "metadata": {},
   "outputs": [
    {
     "data": {
      "image/png": "[encoded data removed]",
      "text/latex": [
       "$$-20.744805389370814$$"
      ],
      "text/plain": [
       "-20.744805389370814"
      ]
     },
     "execution_count": 52,
     "metadata": {},
     "output_type": "execute_result"
    }
   ],
   "source": [
    "theta3 = float(pi/2 - (phi3 + phi4))\n",
    "float(degrees(theta3))"
   ]
  },
  {
   "cell_type": "markdown",
   "metadata": {},
   "source": [
    "# Inverse Orientation Kinematics"
   ]
  },
  {
   "cell_type": "markdown",
   "metadata": {},
   "source": [
    "Rrpy is the input EE rotation\n",
    "R0_6 is the rotation part of the homogeneous transformation T(0,EE)\n",
    "R0_6 = Rrpy\n",
    "R3_6 = inv(R0_3) * Rrpy"
   ]
  },
  {
   "cell_type": "code",
   "execution_count": 54,
   "metadata": {
    "scrolled": false
   },
   "outputs": [
    {
     "data": {
      "text/latex": [
       "$$\\left[\\begin{matrix}- \\sin{\\left (q_{4} \\right )} \\sin{\\left (q_{6} \\right )} + \\cos{\\left (q_{4} \\right )} \\cos{\\left (q_{5} \\right )} \\cos{\\left (q_{6} \\right )} & - \\sin{\\left (q_{4} \\right )} \\cos{\\left (q_{6} \\right )} - \\sin{\\left (q_{6} \\right )} \\cos{\\left (q_{4} \\right )} \\cos{\\left (q_{5} \\right )} & - \\sin{\\left (q_{5} \\right )} \\cos{\\left (q_{4} \\right )}\\\\\\sin{\\left (q_{5} \\right )} \\cos{\\left (q_{6} \\right )} & - \\sin{\\left (q_{5} \\right )} \\sin{\\left (q_{6} \\right )} & \\cos{\\left (q_{5} \\right )}\\\\- \\sin{\\left (q_{4} \\right )} \\cos{\\left (q_{5} \\right )} \\cos{\\left (q_{6} \\right )} - \\sin{\\left (q_{6} \\right )} \\cos{\\left (q_{4} \\right )} & \\sin{\\left (q_{4} \\right )} \\sin{\\left (q_{6} \\right )} \\cos{\\left (q_{5} \\right )} - \\cos{\\left (q_{4} \\right )} \\cos{\\left (q_{6} \\right )} & \\sin{\\left (q_{4} \\right )} \\sin{\\left (q_{5} \\right )}\\end{matrix}\\right]$$"
      ],
      "text/plain": [
       "⎡-sin(q₄)⋅sin(q₆) + cos(q₄)⋅cos(q₅)⋅cos(q₆)  -sin(q₄)⋅cos(q₆) - sin(q₆)⋅cos(q₄\n",
       "⎢                                                                             \n",
       "⎢             sin(q₅)⋅cos(q₆)                             -sin(q₅)⋅sin(q₆)    \n",
       "⎢                                                                             \n",
       "⎣-sin(q₄)⋅cos(q₅)⋅cos(q₆) - sin(q₆)⋅cos(q₄)  sin(q₄)⋅sin(q₆)⋅cos(q₅) - cos(q₄)\n",
       "\n",
       ")⋅cos(q₅)  -sin(q₅)⋅cos(q₄)⎤\n",
       "                           ⎥\n",
       "               cos(q₅)     ⎥\n",
       "                           ⎥\n",
       "⋅cos(q₆)   sin(q₄)⋅sin(q₅) ⎦"
      ]
     },
     "execution_count": 54,
     "metadata": {},
     "output_type": "execute_result"
    }
   ],
   "source": [
    "R3_6 = simplify(T3_4 * T4_5 * T5_6)[:3,:3]\n",
    "R3_6"
   ]
  },
  {
   "cell_type": "markdown",
   "metadata": {},
   "source": [
    "\\begin{align}\n",
    "^3_6R = ^0_3R^T\\;R_{rpy} =\n",
    "\\begin{bmatrix}\n",
    "r_{11} & r_{12} & r_{13} \\\\\n",
    "r_{21} & r_{22} & r_{23} \\\\ \n",
    "r_{31} & r_{32} & r_{33}\n",
    "\\end{bmatrix}\n",
    "\\end{align}"
   ]
  },
  {
   "cell_type": "code",
   "execution_count": 55,
   "metadata": {},
   "outputs": [
    {
     "data": {
      "text/latex": [
       "$$\\left[\\begin{matrix}\\sin{\\left (q_{2} + q_{3} \\right )} \\cos{\\left (q_{1} \\right )} & \\cos{\\left (q_{1} \\right )} \\cos{\\left (q_{2} + q_{3} \\right )} & - \\sin{\\left (q_{1} \\right )}\\\\\\sin{\\left (q_{1} \\right )} \\sin{\\left (q_{2} + q_{3} \\right )} & \\sin{\\left (q_{1} \\right )} \\cos{\\left (q_{2} + q_{3} \\right )} & \\cos{\\left (q_{1} \\right )}\\\\\\cos{\\left (q_{2} + q_{3} \\right )} & - \\sin{\\left (q_{2} + q_{3} \\right )} & 0\\end{matrix}\\right]$$"
      ],
      "text/plain": [
       "⎡sin(q₂ + q₃)⋅cos(q₁)  cos(q₁)⋅cos(q₂ + q₃)  -sin(q₁)⎤\n",
       "⎢                                                    ⎥\n",
       "⎢sin(q₁)⋅sin(q₂ + q₃)  sin(q₁)⋅cos(q₂ + q₃)  cos(q₁) ⎥\n",
       "⎢                                                    ⎥\n",
       "⎣    cos(q₂ + q₃)         -sin(q₂ + q₃)         0    ⎦"
      ]
     },
     "execution_count": 55,
     "metadata": {},
     "output_type": "execute_result"
    }
   ],
   "source": [
    "R0_3 = T0_3[0:3,0:3]\n",
    "R0_3"
   ]
  },
  {
   "cell_type": "code",
   "execution_count": 56,
   "metadata": {},
   "outputs": [
    {
     "data": {
      "text/latex": [
       "$$\\left[\\begin{matrix}0.0684477997540263 & 0.792565805597203 & 0.605932622085071\\\\-0.0521356658807564 & -0.603685526454014 & 0.795515969351408\\\\0.996291509073526 & -0.0860420185025732 & 0\\end{matrix}\\right]$$"
      ],
      "text/plain": [
       "⎡0.0684477997540263    0.792565805597203   0.605932622085071⎤\n",
       "⎢                                                           ⎥\n",
       "⎢-0.0521356658807564  -0.603685526454014   0.795515969351408⎥\n",
       "⎢                                                           ⎥\n",
       "⎣ 0.996291509073526   -0.0860420185025732          0        ⎦"
      ]
     },
     "execution_count": 56,
     "metadata": {},
     "output_type": "execute_result"
    }
   ],
   "source": [
    "R0_3 = R0_3.evalf(subs={q1: theta1, q2: theta2, q3: theta3})\n",
    "R0_3"
   ]
  },
  {
   "cell_type": "code",
   "execution_count": 57,
   "metadata": {},
   "outputs": [
    {
     "data": {
      "text/latex": [
       "$$\\left[\\begin{matrix}-0.0198952520931227 & -0.911241999765677 & -0.411390564800896\\\\0.626376315955436 & -0.332070307540225 & 0.705253161396839\\\\-0.779266892504902 & -0.24365411696335 & 0.577387029238243\\end{matrix}\\right]$$"
      ],
      "text/plain": [
       "⎡-0.0198952520931227  -0.911241999765677  -0.411390564800896⎤\n",
       "⎢                                                           ⎥\n",
       "⎢ 0.626376315955436   -0.332070307540225  0.705253161396839 ⎥\n",
       "⎢                                                           ⎥\n",
       "⎣-0.779266892504902   -0.24365411696335   0.577387029238243 ⎦"
      ]
     },
     "execution_count": 57,
     "metadata": {},
     "output_type": "execute_result"
    }
   ],
   "source": [
    "R3_6 = R0_3.T * Rrpy[0:3,0:3]\n",
    "R3_6"
   ]
  },
  {
   "cell_type": "markdown",
   "metadata": {},
   "source": [
    "\\begin{align}\n",
    "\\theta_6 & = atan2(r_{21},r_{11}) \\\\\n",
    "\\theta_5 & = atan2(-r_{31}, \\sqrt{r_{11}^2+r_{21}^2}) \\\\\n",
    "\\theta_4 & = atan2(r_{32}, r_{33})\n",
    "\\end{align}"
   ]
  },
  {
   "cell_type": "code",
   "execution_count": 24,
   "metadata": {
    "scrolled": true
   },
   "outputs": [
    {
     "name": "stdout",
     "output_type": "stream",
     "text": [
      "q1-q6:\n",
      "Expected=[-0.65, 0.45, -0.36, 0.95, 0.79, 0.49]\n",
      "Actual=[-0.650937693394287, 0.44821369527573346, -0.362065156729985, -0.399322160595541, 0.893495160196978, 1.60254811109211]\n",
      "\n"
     ]
    },
    {
     "data": {
      "text/latex": [
       "$$\\left[\\begin{matrix}0.26397019944359 & 0.787495540508712 & -0.556929535475183 & 1.97449347595966\\\\-0.581914636457114 & -0.330460648226185 & -0.743082173013803 & -1.61934046681845\\\\-0.76921719278933 & 0.5202369975817 & 0.371023417946201 & 1.46059272923718\\\\0 & 0 & 0 & 1.0\\end{matrix}\\right]$$"
      ],
      "text/plain": [
       "⎡ 0.26397019944359   0.787495540508712   -0.556929535475183  1.97449347595966 \n",
       "⎢                                                                             \n",
       "⎢-0.581914636457114  -0.330460648226185  -0.743082173013803  -1.61934046681845\n",
       "⎢                                                                             \n",
       "⎢-0.76921719278933    0.5202369975817    0.371023417946201   1.46059272923718 \n",
       "⎢                                                                             \n",
       "⎣        0                   0                   0                  1.0       \n",
       "\n",
       "⎤\n",
       "⎥\n",
       "⎥\n",
       "⎥\n",
       "⎥\n",
       "⎥\n",
       "⎦"
      ]
     },
     "execution_count": 24,
     "metadata": {},
     "output_type": "execute_result"
    }
   ],
   "source": [
    "# Entries of the rotation matrix\n",
    "r11 = R3_6[0,0]\n",
    "r21 = R3_6[1,0]\n",
    "r31 = R3_6[2,0]\n",
    "r32 = R3_6[2,1]\n",
    "r33 = R3_6[2,2]\n",
    "\n",
    "# Euler angles, cf. conventions in writeup    \n",
    "theta6 = atan2( r21, r11).evalf()                    # alpha, rotation about z-axis\n",
    "theta5 = atan2(-r31, sqrt(r11**2 + r21**2)).evalf()  # beta,  rotation about y-axis\n",
    "theta4 = atan2( r32, r33).evalf()                    # gamma, rotation about x-axis\n",
    "\n",
    "print('q1-q6:\\nExpected={}\\nActual={}\\n'.format(test_cases[case_num][2], [theta1, theta2, theta3, theta4, theta5, theta6]))\n",
    "T_total.evalf(subs={q1: theta1, q2: theta2, q3: theta3, q4: theta4, q5: theta5, q6: theta6})\n"
   ]
  },
  {
   "cell_type": "markdown",
   "metadata": {},
   "source": []
  },
  {
   "cell_type": "code",
   "execution_count": null,
   "metadata": {},
   "outputs": [],
   "source": []
  }
 ],
 "metadata": {
  "kernelspec": {
   "display_name": "Python [conda env:RoboND]",
   "language": "python",
   "name": "conda-env-RoboND-py"
  },
  "language_info": {
   "codemirror_mode": {
    "name": "ipython",
    "version": 3
   },
   "file_extension": ".py",
   "mimetype": "text/x-python",
   "name": "python",
   "nbconvert_exporter": "python",
   "pygments_lexer": "ipython3",
   "version": "3.5.2"
  },
  "widgets": {
   "state": {},
   "version": "1.1.2"
  }
 },
 "nbformat": 4,
 "nbformat_minor": 2
}
